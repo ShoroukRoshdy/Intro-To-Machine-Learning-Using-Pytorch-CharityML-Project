{
 "cells": [
  {
   "cell_type": "markdown",
   "source": [
    "# Introduction\r\n",
    "\r\n",
    "In this project, you will build a neural network of your own design to evaluate the CIFAR-10 dataset.\r\n",
    "Our target accuracy is 70%, but any accuracy over 50% is a great start.\r\n",
    "Some of the benchmark results on CIFAR-10 include:\r\n",
    "\r\n",
    "78.9% Accuracy | [Deep Belief Networks; Krizhevsky, 2010](https://www.cs.toronto.edu/~kriz/conv-cifar10-aug2010.pdf)\r\n",
    "\r\n",
    "90.6% Accuracy | [Maxout Networks; Goodfellow et al., 2013](https://arxiv.org/pdf/1302.4389.pdf)\r\n",
    "\r\n",
    "96.0% Accuracy | [Wide Residual Networks; Zagoruyko et al., 2016](https://arxiv.org/pdf/1605.07146.pdf)\r\n",
    "\r\n",
    "99.0% Accuracy | [GPipe; Huang et al., 2018](https://arxiv.org/pdf/1811.06965.pdf)\r\n",
    "\r\n",
    "98.5% Accuracy | [Rethinking Recurrent Neural Networks and other Improvements for ImageClassification; Nguyen et al., 2020](https://arxiv.org/pdf/2007.15161.pdf)\r\n",
    "\r\n",
    "Research with this dataset is ongoing. Notably, many of these networks are quite large and quite expensive to train. \r\n",
    "\r\n",
    "## Imports"
   ],
   "metadata": {}
  },
  {
   "cell_type": "code",
   "execution_count": 14,
   "source": [
    "## This cell contains the essential imports you will need – DO NOT CHANGE THE CONTENTS! ##\r\n",
    "import torch\r\n",
    "import torch.nn as nn\r\n",
    "import torch.nn.functional as F\r\n",
    "import torch.optim as optim\r\n",
    "import torchvision\r\n",
    "import torchvision.transforms as transforms\r\n",
    "import matplotlib.pyplot as plt\r\n",
    "import numpy as np"
   ],
   "outputs": [],
   "metadata": {}
  },
  {
   "cell_type": "markdown",
   "source": [
    "## Load the Dataset\n",
    "\n",
    "Specify your transforms as a list first.\n",
    "The transforms module is already loaded as `transforms`.\n",
    "\n",
    "CIFAR-10 is fortunately included in the torchvision module.\n",
    "Then, you can create your dataset using the `CIFAR10` object from `torchvision.datasets` ([the documentation is available here](https://pytorch.org/docs/stable/torchvision/datasets.html#cifar)).\n",
    "Make sure to specify `download=True`! \n",
    "\n",
    "Once your dataset is created, you'll also need to define a `DataLoader` from the `torch.utils.data` module for both the train and the test set."
   ],
   "metadata": {}
  },
  {
   "cell_type": "code",
   "execution_count": 15,
   "source": [
    "# Define transforms\r\n",
    "## YOUR CODE HERE ##\r\n",
    "train_transforms = transforms.Compose([transforms.RandomRotation(90), transforms.RandomHorizontalFlip(), transforms.RandomRotation(10), transforms.ToTensor(),transforms.Normalize((0.5, 0.5, 0.5), (0.5, 0.5, 0.5))]) \r\n",
    "test_transforms = transforms.Compose([transforms.ToTensor(),transforms.Normalize((0.5, 0.5, 0.5), (0.5, 0.5, 0.5))])\r\n",
    "\r\n",
    "# Create training set and define training dataloader\r\n",
    "## YOUR CODE HERE ##\r\n",
    "train_data = torchvision.datasets.CIFAR10(root='./data',download=True , train=True,  transform=train_transforms)\r\n",
    "trainloader = torch.utils.data.DataLoader(train_data, batch_size=32,  shuffle=True)\r\n",
    "\r\n",
    "# Create test set and define test dataloader\r\n",
    "## YOUR CODE HERE ##\r\n",
    "test_data = torchvision.datasets.CIFAR10(root='./data',download=True , train=False,  transform=test_transforms)\r\n",
    "testloader = torch.utils.data.DataLoader(test_data, batch_size=32,  shuffle=False)\r\n",
    "\r\n",
    "# The 10 classes in the dataset\r\n",
    "classes = ('plane', 'car', 'bird', 'cat', 'deer', 'dog', 'frog', 'horse', 'ship', 'truck')"
   ],
   "outputs": [
    {
     "output_type": "stream",
     "name": "stdout",
     "text": [
      "Files already downloaded and verified\n",
      "Files already downloaded and verified\n"
     ]
    }
   ],
   "metadata": {}
  },
  {
   "cell_type": "markdown",
   "source": [
    "## Explore the Dataset\n",
    "Using matplotlib, numpy, and torch, explore the dimensions of your data.\n",
    "\n",
    "You can view images using the `show5` function defined below – it takes a data loader as an argument.\n",
    "Remember that normalized images will look really weird to you! You may want to try changing your transforms to view images.\n",
    "Typically using no transforms other than `toTensor()` works well for viewing – but not as well for training your network.\n",
    "If `show5` doesn't work, go back and check your code for creating your data loaders and your training/test sets."
   ],
   "metadata": {}
  },
  {
   "cell_type": "code",
   "execution_count": 16,
   "source": [
    "def show5(img_loader):\r\n",
    "    dataiter = iter(img_loader)\r\n",
    "    \r\n",
    "    batch = next(dataiter)\r\n",
    "    labels = batch[1][0:5]\r\n",
    "    images = batch[0][0:5]\r\n",
    "    for i in range(5):\r\n",
    "        print(classes[labels[i]])\r\n",
    "    \r\n",
    "        image = images[i].numpy()\r\n",
    "        plt.imshow(image.T)\r\n",
    "        plt.show()"
   ],
   "outputs": [],
   "metadata": {}
  },
  {
   "cell_type": "code",
   "execution_count": 17,
   "source": [
    "# Explore data\r\n",
    "## YOUR CODE HERE ##\r\n",
    "show5(trainloader)"
   ],
   "outputs": [
    {
     "output_type": "stream",
     "name": "stderr",
     "text": [
      "Clipping input data to the valid range for imshow with RGB data ([0..1] for floats or [0..255] for integers).\n"
     ]
    },
    {
     "output_type": "stream",
     "name": "stdout",
     "text": [
      "dog\n"
     ]
    },
    {
     "output_type": "display_data",
     "data": {
      "image/png": "[encoded data removed]",
      "text/plain": [
       "<Figure size 432x288 with 1 Axes>"
      ]
     },
     "metadata": {}
    },
    {
     "output_type": "stream",
     "name": "stderr",
     "text": [
      "Clipping input data to the valid range for imshow with RGB data ([0..1] for floats or [0..255] for integers).\n"
     ]
    },
    {
     "output_type": "stream",
     "name": "stdout",
     "text": [
      "frog\n"
     ]
    },
    {
     "output_type": "display_data",
     "data": {
      "image/png": "[encoded data removed]",
      "text/plain": [
       "<Figure size 432x288 with 1 Axes>"
      ]
     },
     "metadata": {}
    },
    {
     "output_type": "stream",
     "name": "stderr",
     "text": [
      "Clipping input data to the valid range for imshow with RGB data ([0..1] for floats or [0..255] for integers).\n"
     ]
    },
    {
     "output_type": "stream",
     "name": "stdout",
     "text": [
      "horse\n"
     ]
    },
    {
     "output_type": "display_data",
     "data": {
      "image/png": "[encoded data removed]",
      "text/plain": [
       "<Figure size 432x288 with 1 Axes>"
      ]
     },
     "metadata": {}
    },
    {
     "output_type": "stream",
     "name": "stderr",
     "text": [
      "Clipping input data to the valid range for imshow with RGB data ([0..1] for floats or [0..255] for integers).\n"
     ]
    },
    {
     "output_type": "stream",
     "name": "stdout",
     "text": [
      "truck\n"
     ]
    },
    {
     "output_type": "display_data",
     "data": {
      "image/png": "[encoded data removed]",
      "text/plain": [
       "<Figure size 432x288 with 1 Axes>"
      ]
     },
     "metadata": {}
    },
    {
     "output_type": "stream",
     "name": "stderr",
     "text": [
      "Clipping input data to the valid range for imshow with RGB data ([0..1] for floats or [0..255] for integers).\n"
     ]
    },
    {
     "output_type": "stream",
     "name": "stdout",
     "text": [
      "bird\n"
     ]
    },
    {
     "output_type": "display_data",
     "data": {
      "image/png": "[encoded data removed]",
      "text/plain": [
       "<Figure size 432x288 with 1 Axes>"
      ]
     },
     "metadata": {}
    }
   ],
   "metadata": {}
  },
  {
   "cell_type": "markdown",
   "source": [
    "## Build your Neural Network\n",
    "Using the layers in `torch.nn` (which has been imported as `nn`) and the `torch.nn.functional` module (imported as `F`), construct a neural network based on the parameters of the dataset. \n",
    "Feel free to construct a model of any architecture – feedforward, convolutional, or even something more advanced!"
   ],
   "metadata": {}
  },
  {
   "cell_type": "code",
   "execution_count": 33,
   "source": [
    "\r\n",
    "\r\n",
    "class Classifier(nn.Module):\r\n",
    "    def __init__(self):\r\n",
    "      super().__init__()\r\n",
    "      self.conv1 = nn.Conv2d(3, 16, 3, 1, padding=1)\r\n",
    "      self.maxpool1= nn.MaxPool2d(2,2)\r\n",
    "      self.conv2 = nn.Conv2d(16, 32, 3, 1, padding=1) \r\n",
    "      self.maxpool2= nn.MaxPool2d(2,2)\r\n",
    "      self.conv3 = nn.Conv2d(32, 64, 3, 1, padding=1)\r\n",
    "      self.maxpool3= nn.MaxPool2d(2,2)\r\n",
    "      self.fc1 = nn.Linear(4*4*64, 500) \r\n",
    "      self.fc2 = nn.Linear(500, 10) \r\n",
    "      self.softmax= nn.LogSoftmax(dim=1)\r\n",
    "    def forward(self, x):\r\n",
    "      x = F.relu(self.conv1(x)) \r\n",
    "      x = self.maxpool1(x)\r\n",
    "      x = F.relu(self.conv2(x))\r\n",
    "      x = self.maxpool2(x)\r\n",
    "      x = F.relu(self.conv3(x))\r\n",
    "      x = self.maxpool3(x)\r\n",
    "      x = x.view(-1, 4*4*64) \r\n",
    "      x = F.relu(self.fc1(x))\r\n",
    "      x = self.fc2(x)\r\n",
    "      x= self.softmax(x)\r\n",
    "      return x\r\n",
    "\r\n",
    "\r\n"
   ],
   "outputs": [],
   "metadata": {}
  },
  {
   "cell_type": "markdown",
   "source": [
    "Specify a loss function and an optimizer, and instantiate the model.\n",
    "\n",
    "If you use a less common loss function, please note why you chose that loss function in a comment."
   ],
   "metadata": {}
  },
  {
   "cell_type": "code",
   "execution_count": 34,
   "source": [
    "## YOUR CODE HERE ##\r\n",
    "model = Classifier()\r\n",
    "criterion = nn.CrossEntropyLoss()\r\n",
    "optimizer = optim.Adam(model.parameters(), lr=0.001)\r\n",
    "model"
   ],
   "outputs": [
    {
     "output_type": "execute_result",
     "data": {
      "text/plain": [
       "Classifier(\n",
       "  (conv1): Conv2d(3, 16, kernel_size=(3, 3), stride=(1, 1), padding=(1, 1))\n",
       "  (maxpool1): MaxPool2d(kernel_size=2, stride=2, padding=0, dilation=1, ceil_mode=False)\n",
       "  (conv2): Conv2d(16, 32, kernel_size=(3, 3), stride=(1, 1), padding=(1, 1))\n",
       "  (maxpool2): MaxPool2d(kernel_size=2, stride=2, padding=0, dilation=1, ceil_mode=False)\n",
       "  (conv3): Conv2d(32, 64, kernel_size=(3, 3), stride=(1, 1), padding=(1, 1))\n",
       "  (maxpool3): MaxPool2d(kernel_size=2, stride=2, padding=0, dilation=1, ceil_mode=False)\n",
       "  (fc1): Linear(in_features=1024, out_features=500, bias=True)\n",
       "  (fc2): Linear(in_features=500, out_features=10, bias=True)\n",
       "  (softmax): LogSoftmax(dim=1)\n",
       ")"
      ]
     },
     "metadata": {},
     "execution_count": 34
    }
   ],
   "metadata": {}
  },
  {
   "cell_type": "markdown",
   "source": [
    "## Running your Neural Network\r\n",
    "Use whatever method you like to train your neural network, and ensure you record the average loss at each epoch. \r\n",
    "Don't forget to use `torch.device()` and the `.to()` method for both your model and your data if you are using GPU!\r\n",
    "\r\n",
    "If you want to print your loss during each epoch, you can use the `enumerate` function and print the loss after a set number of batches. 250 batches works well for most people!"
   ],
   "metadata": {}
  },
  {
   "cell_type": "code",
   "execution_count": 35,
   "source": [
    "## YOUR CODE HERE ##\r\n",
    "model.to('cuda')\r\n",
    "epochs = 15\r\n",
    "train_loss=[]\r\n",
    "\r\n",
    "for epoch in range(epochs):\r\n",
    "      running_loss=0\r\n",
    "      for inputs, labels in trainloader:\r\n",
    "            # steps += 1\r\n",
    "            optimizer.zero_grad()\r\n",
    "            inputs, labels = inputs.to(\"cuda\"), labels.to(\"cuda\")\r\n",
    "            outputs = model.forward(inputs)\r\n",
    "            loss = criterion(outputs, labels)\r\n",
    "            loss.backward()\r\n",
    "            optimizer.step()\r\n",
    "            running_loss += loss.item()\r\n",
    "      train_loss.append(running_loss / len(trainloader))\r\n",
    "      print(\"Training Loss:\", running_loss / len(trainloader))\r\n",
    "# plt.plot(train_loss)\r\n",
    "\r\n"
   ],
   "outputs": [
    {
     "output_type": "stream",
     "name": "stdout",
     "text": [
      "Training Loss: 1.6818212983475538\n",
      "Training Loss: 1.436695558210252\n",
      "Training Loss: 1.3252247671858286\n",
      "Training Loss: 1.2437624978622563\n",
      "Training Loss: 1.189585218197706\n",
      "Training Loss: 1.1467533067335933\n",
      "Training Loss: 1.1105624817535806\n",
      "Training Loss: 1.0877640539838653\n",
      "Training Loss: 1.0656714202193824\n",
      "Training Loss: 1.044110502711642\n",
      "Training Loss: 1.033767091335582\n",
      "Training Loss: 1.0189941199979031\n",
      "Training Loss: 1.0052951133487626\n",
      "Training Loss: 0.9928075620095392\n",
      "Training Loss: 0.9820690522267127\n"
     ]
    }
   ],
   "metadata": {}
  },
  {
   "cell_type": "markdown",
   "source": [
    "Plot the training loss (and validation loss/accuracy, if recorded)."
   ],
   "metadata": {}
  },
  {
   "cell_type": "code",
   "execution_count": 38,
   "source": [
    "## YOUR CODE HERE ##\r\n",
    "plt.plot(train_loss, label='Training Loss')\r\n",
    "plt.legend()"
   ],
   "outputs": [
    {
     "output_type": "execute_result",
     "data": {
      "text/plain": [
       "<matplotlib.legend.Legend at 0x18b87279ca0>"
      ]
     },
     "metadata": {},
     "execution_count": 38
    },
    {
     "output_type": "display_data",
     "data": {
      "image/png": "[encoded data removed]",
      "text/plain": [
       "<Figure size 432x288 with 1 Axes>"
      ]
     },
     "metadata": {}
    }
   ],
   "metadata": {}
  },
  {
   "cell_type": "markdown",
   "source": [
    "## Testing your model\n",
    "Using the previously created `DataLoader` for the test set, compute the percentage of correct predictions using the highest probability prediction. \n",
    "\n",
    "If your accuracy is over 70%, great work! \n",
    "This is a hard task to exceed 70% on.\n",
    "\n",
    "If your accuracy is under 45%, you'll need to make improvements.\n",
    "Go back and check your model architecture, loss function, and optimizer to make sure they're appropriate for an image classification task."
   ],
   "metadata": {}
  },
  {
   "cell_type": "code",
   "execution_count": 39,
   "source": [
    "## YOUR CODE HERE ##\r\n",
    "test_loss = 0\r\n",
    "accuracy = 0\r\n",
    "\r\n",
    "correct = 0\r\n",
    "samples = 0\r\n",
    "\r\n",
    "\r\n",
    "for inputs, labels in testloader:\r\n",
    "    inputs, labels = inputs.to(\"cuda\"), labels.to(\"cuda\")\r\n",
    "    logps = model.forward(inputs)\r\n",
    "    batch_loss = criterion(logps, labels.to(\"cuda\"))\r\n",
    "    \r\n",
    "    test_loss += batch_loss.item()\r\n",
    "    \r\n",
    "    _, predictions = logps.max(1)\r\n",
    "    correct += (predictions == labels).sum()\r\n",
    "    samples += predictions.size(0)\r\n",
    "    \r\n",
    "print('Testing Accuracy=', float(correct)/float(samples)*100) "
   ],
   "outputs": [
    {
     "output_type": "stream",
     "name": "stdout",
     "text": [
      "Testing Accuracy= 64.95\n"
     ]
    }
   ],
   "metadata": {}
  },
  {
   "cell_type": "markdown",
   "source": [
    "## Saving your model\r\n",
    "Using `torch.save`, save your model for future loading."
   ],
   "metadata": {}
  },
  {
   "cell_type": "code",
   "execution_count": 44,
   "source": [
    "## YOUR CODE HERE ##\r\n",
    "torch.save(model.state_dict(), 'D:/model.pth')"
   ],
   "outputs": [],
   "metadata": {}
  },
  {
   "cell_type": "markdown",
   "source": [
    "## Make a Recommendation\n",
    "\n",
    "Based on your evaluation, what is your recommendation on whether to build or buy? Explain your reasoning below."
   ],
   "metadata": {}
  },
  {
   "cell_type": "markdown",
   "source": [
    "Building is better since the model to be bought has an slightly higher accuracy, but will be much more costly to buy. The difference between the built model and the model to be bought is not that big to afford the cost. So building the model is a better choice.\r\n",
    "\r\n"
   ],
   "metadata": {}
  }
 ],
 "metadata": {
  "kernelspec": {
   "name": "python3",
   "display_name": "Python 3.8.11 64-bit ('base': conda)"
  },
  "language_info": {
   "codemirror_mode": {
    "name": "ipython",
    "version": 3
   },
   "file_extension": ".py",
   "mimetype": "text/x-python",
   "name": "python",
   "nbconvert_exporter": "python",
   "pygments_lexer": "ipython3",
   "version": "3.8.11"
  },
  "interpreter": {
   "hash": "7b4b4feff2f24a0f0a34464dbe537a36fda679851528fb8735cb41fa49dffb2d"
  }
 },
 "nbformat": 4,
 "nbformat_minor": 4
}